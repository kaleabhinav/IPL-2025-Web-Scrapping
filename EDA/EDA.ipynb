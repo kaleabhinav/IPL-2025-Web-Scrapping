{
 "cells": [
  {
   "cell_type": "code",
   "execution_count": null,
   "id": "f3f69322",
   "metadata": {},
   "outputs": [],
   "source": [
    "teams_info = (\"https://www.iplt20.com/teams\")"
   ]
  },
  {
   "cell_type": "code",
   "execution_count": null,
   "id": "25b2eabf",
   "metadata": {},
   "outputs": [],
   "source": [
    "from bs4 import BeautifulSoup\n",
    "import requests\n",
    "\n",
    "import pandas as pd\n"
   ]
  },
  {
   "cell_type": "code",
   "execution_count": null,
   "id": "2c2fed75",
   "metadata": {},
   "outputs": [],
   "source": [
    "# Helper Functions\n",
    "\n",
    "def check_response(url):\n",
    "    return requests.get(url).status_code\n",
    "\n"
   ]
  },
  {
   "cell_type": "code",
   "execution_count": null,
   "id": "448d218b",
   "metadata": {},
   "outputs": [],
   "source": [
    "resp = requests.get(teams_info)\n",
    "soup = BeautifulSoup(resp.text, \"html.parser\")"
   ]
  },
  {
   "cell_type": "code",
   "execution_count": null,
   "id": "088f2ba8",
   "metadata": {},
   "outputs": [],
   "source": [
    "def get_teams_information(url):\n",
    "    try:\n",
    "        resp = requests.get(url)\n",
    "        # resp.raise_for_status()\n",
    "        print(\"GOT GREEN LIGHT FROM URL!!!\")\n",
    "    except requests.exceptions.RequestException as e:\n",
    "        print(\"Request Faild : {e}\")\n",
    "\n",
    "    soup = BeautifulSoup(resp.text, \"html.parser\")\n",
    "    \n",
    "    l = []  # Will hold the infomation that is scrapped\n",
    "\n",
    "    for i in soup.find_all(\"a\", {\"data-team_name\":True}):\n",
    "        team_name = i['data-team_name']  \n",
    "        \n",
    "        url = i['href']\n",
    "\n",
    "        abbrevation = i.find('span').text\n",
    "\n",
    "        trophy_div = i.find('div', class_='trophy-text-align')\n",
    "        trophy_year =  trophy_div.text if trophy_div else None\n",
    "\n",
    "        logo = i.find(\"img\")['src']\n",
    "\n",
    "        l.append([team_name, abbrevation, trophy_year, logo, url])\n",
    "\n",
    "    df = pd.DataFrame(l, columns = [\"team_name\",\"abbrevation\",\"trophy_year\",\"logo\",\"team_url\"])\n",
    "\n",
    "    return df"
   ]
  },
  {
   "cell_type": "code",
   "execution_count": null,
   "id": "6347f66d",
   "metadata": {},
   "outputs": [],
   "source": [
    "df = get_teams_information(teams_info)"
   ]
  },
  {
   "cell_type": "code",
   "execution_count": null,
   "id": "473b3072",
   "metadata": {},
   "outputs": [],
   "source": [
    "df"
   ]
  },
  {
   "cell_type": "code",
   "execution_count": null,
   "id": "40b173a4",
   "metadata": {},
   "outputs": [],
   "source": [
    "import pandas as pd\n",
    "pd.set_option(\"display.max_columns\", None)\n",
    "df = pd.read_csv(\"scrapped_teams_info/ipl_teams_data.csv\")\n",
    "\n",
    "mi_url = \"https://www.iplt20.com/teams/mumbai-indians\"\n",
    "srh_url = \"https://www.iplt20.com/teams/sunrisers-hyderabad\""
   ]
  },
  {
   "cell_type": "code",
   "execution_count": null,
   "id": "d2a9dfaa",
   "metadata": {},
   "outputs": [],
   "source": [
    "list(df['team_url'])"
   ]
  },
  {
   "cell_type": "code",
   "execution_count": null,
   "id": "052c4c3f",
   "metadata": {},
   "outputs": [],
   "source": [
    "\n",
    "resp = requests.get(mi_url)\n",
    "soup = BeautifulSoup(resp.text, \"html.parser\")"
   ]
  },
  {
   "cell_type": "code",
   "execution_count": null,
   "id": "1dca13eb",
   "metadata": {},
   "outputs": [],
   "source": [
    "soup"
   ]
  },
  {
   "cell_type": "code",
   "execution_count": null,
   "id": "7b5b52c4",
   "metadata": {},
   "outputs": [],
   "source": [
    "def get_team_players(url):\n",
    "    try:\n",
    "        resp = requests.get(url)\n",
    "        resp.raise_for_status()\n",
    "        print(\"GOT GREEN LIGHT FROM URL!!!\")\n",
    "    except requests.exceptions.RequestException as e:\n",
    "        print(f\"Request Failed: {e}\")\n",
    "        return pd.DataFrame()  # Return empty DataFrame on failure\n",
    "\n",
    "    soup = BeautifulSoup(resp.text, \"html.parser\")\n",
    "    players = []\n",
    "\n",
    "    \n",
    "\n",
    "    for i in soup.find_all(\"a\", {\"data-player_name\": True}):\n",
    "        # Head shot png\n",
    "        head_shot_tag = i.find(class_='lazyload')\n",
    "        head_shot_png = head_shot_tag.get('data-src') if head_shot_tag else None\n",
    "\n",
    "        # Player name\n",
    "        player_name = i['data-player_name']\n",
    "\n",
    "        # Player type\n",
    "        player_type_tag = i.find(class_='d-block w-100 text-center')\n",
    "        player_type = player_type_tag.text.strip() if player_type_tag else None\n",
    "\n",
    "        # Scrapping team's icon\n",
    "        teams_icon_div = i.find(class_='teams-icon')\n",
    "        tag = teams_icon_div.find_all(\"img\") if teams_icon_div else []\n",
    "\n",
    "        # Scrapping individual's icons\n",
    "        player_type_icon = captain_icon = foreign_player_icon = None\n",
    "\n",
    "        if len(tag) == 1:\n",
    "            player_type_icon = tag[-1]['src']\n",
    "        elif len(tag) == 2:\n",
    "            if \"captain\" in tag[0]['src']:\n",
    "                captain_icon = tag[0]['src']\n",
    "                player_type_icon = tag[1]['src']\n",
    "            else:\n",
    "                foreign_player_icon = tag[0]['src']\n",
    "                player_type_icon = tag[1]['src']\n",
    "        elif len(tag) >= 3:\n",
    "            captain_icon = tag[0]['src']\n",
    "            foreign_player_icon = tag[1]['src']\n",
    "            player_type_icon = tag[2]['src']\n",
    "\n",
    "        players.append([\n",
    "            player_name,\n",
    "            head_shot_png,\n",
    "            player_type,\n",
    "            player_type_icon,\n",
    "            captain_icon,\n",
    "            foreign_player_icon\n",
    "        ])\n",
    "\n",
    "    df = pd.DataFrame(players, columns=['player_name', 'head_shot_png', 'player_type','player_type_icon', 'captain_icon', 'foreign_player_icon'])\n",
    "    return df\n"
   ]
  },
  {
   "cell_type": "code",
   "execution_count": null,
   "id": "6aafd0ea",
   "metadata": {},
   "outputs": [],
   "source": [
    "get_team_players(mi_url)"
   ]
  },
  {
   "cell_type": "code",
   "execution_count": null,
   "id": "5dc4168b",
   "metadata": {},
   "outputs": [],
   "source": [
    "get_team_players(srh_url)\n"
   ]
  },
  {
   "cell_type": "code",
   "execution_count": null,
   "id": "60d5b4e2",
   "metadata": {},
   "outputs": [],
   "source": [
    "# get_team_players(mi_url).to_csv(\"test.csv\")"
   ]
  },
  {
   "cell_type": "code",
   "execution_count": null,
   "id": "3aa807d9",
   "metadata": {},
   "outputs": [],
   "source": [
    "test1 = soup.find_all(\"a\",{\"data-player_name\" : True})[5]"
   ]
  },
  {
   "cell_type": "code",
   "execution_count": null,
   "id": "375411db",
   "metadata": {},
   "outputs": [],
   "source": [
    "test1['data-player_name']"
   ]
  },
  {
   "cell_type": "code",
   "execution_count": null,
   "id": "a98f2c3e",
   "metadata": {},
   "outputs": [],
   "source": [
    "test1.find(class_ = 'd-block w-100 text-center').text"
   ]
  },
  {
   "cell_type": "code",
   "execution_count": null,
   "id": "6adf6cdf",
   "metadata": {},
   "outputs": [],
   "source": [
    "resp = requests.get(srh_url)\n",
    "soup = BeautifulSoup(resp.text, \"html.parser\")\n",
    "\n",
    "for i in soup.find_all(\"a\",{\"data-player_name\" : True}):\n",
    "    print(i['data-player_name'])\n",
    "    tag = i.find(class_ = 'teams-icon').find_all(\"img\")\n",
    "    print(tag)\n",
    "    if len(tag) == 1:\n",
    "            player_type_icon = tag[-1]['src']\n",
    "            captain_icon = None\n",
    "            foreign_player_icon = None\n",
    "\n",
    "            print(player_type_icon,captain_icon,foreign_player_icon)\n",
    "    elif len(tag) == 2:\n",
    "        if \"captain\" in tag[-2]['src']:\n",
    "            player_type_icon = tag[-1]['src']\n",
    "            captain_icon = tag[-2]['src']\n",
    "            foreign_player_icon = None\n",
    "            print(player_type_icon,captain_icon,foreign_player_icon)\n",
    "\n",
    "        else:\n",
    "            player_type_icon = tag[-1]['src']\n",
    "            captain_icon = None\n",
    "            foreign_player_icon = tag[-2]['src']\n",
    "            print(player_type_icon,captain_icon,foreign_player_icon)\n",
    "\n",
    "    else:\n",
    "        player_type_icon = tag[-1]['src']\n",
    "        foreign_player_icon = tag[-2]['src']\n",
    "        captain_icon = tag[-3]['src']\n",
    "        print(player_type_icon,captain_icon,foreign_player_icon)\n"
   ]
  },
  {
   "cell_type": "code",
   "execution_count": null,
   "id": "145a2225",
   "metadata": {},
   "outputs": [],
   "source": [
    "def get_team_players(url):\n",
    "    try:\n",
    "        resp = requests.get(url)\n",
    "        resp.raise_for_status()\n",
    "        print(f\"GOT GREEN LIGHT FROM {url}!!!\")\n",
    "    except requests.exceptions.RequestException as e:\n",
    "        print(f\"Request Failed: {e}\")\n",
    "        return pd.DataFrame()\n",
    "\n",
    "    soup = BeautifulSoup(resp.text, \"html.parser\")\n",
    "    players = []\n",
    "\n",
    "    team_name = url.rstrip(\"/\").split(\"/\")[-1]\n",
    "\n",
    "    for i in soup.find_all(\"a\", {\"data-player_name\": True}):\n",
    "        head_shot_tag = i.find(class_='lazyload')\n",
    "        head_shot_png = head_shot_tag.get('data-src') if head_shot_tag else None\n",
    "\n",
    "        player_name = i['data-player_name']\n",
    "\n",
    "        player_type_tag = i.find(class_='d-block w-100 text-center')\n",
    "        player_type = player_type_tag.text.strip() if player_type_tag else None\n",
    "\n",
    "        teams_icon_div = i.find(class_='teams-icon')\n",
    "        tag = teams_icon_div.find_all(\"img\") if teams_icon_div else []\n",
    "\n",
    "        player_type_icon = captain_icon = foreign_player_icon = None\n",
    "        if len(tag) == 1:\n",
    "            player_type_icon = tag[-1]['src']\n",
    "        elif len(tag) == 2:\n",
    "            if \"captain\" in tag[0]['src']:\n",
    "                captain_icon = tag[0]['src']\n",
    "                player_type_icon = tag[1]['src']\n",
    "            else:\n",
    "                foreign_player_icon = tag[0]['src']\n",
    "                player_type_icon = tag[1]['src']\n",
    "        elif len(tag) >= 3:\n",
    "            captain_icon = tag[0]['src']\n",
    "            foreign_player_icon = tag[1]['src']\n",
    "            player_type_icon = tag[2]['src']\n",
    "\n",
    "        players.append([\n",
    "            player_name,\n",
    "            head_shot_png,\n",
    "            player_type,\n",
    "            player_type_icon,\n",
    "            captain_icon,\n",
    "            foreign_player_icon\n",
    "        ])\n",
    "\n",
    "    df = pd.DataFrame(players, columns=[\n",
    "        'player_name', 'head_shot_png', 'player_type',\n",
    "        'player_type_icon', 'captain_icon', 'foreign_player_icon'\n",
    "    ])\n",
    "    df['team_name'] = team_name  \n",
    "    return df\n"
   ]
  },
  {
   "cell_type": "code",
   "execution_count": null,
   "id": "a0250c00",
   "metadata": {},
   "outputs": [],
   "source": [
    "df = merge_data_for_team_players(team_urls)"
   ]
  },
  {
   "cell_type": "code",
   "execution_count": null,
   "id": "0ab46a89",
   "metadata": {},
   "outputs": [],
   "source": [
    "df['team_name'].value_counts()"
   ]
  },
  {
   "cell_type": "code",
   "execution_count": null,
   "id": "d30c5132",
   "metadata": {},
   "outputs": [],
   "source": [
    "df"
   ]
  },
  {
   "cell_type": "code",
   "execution_count": null,
   "id": "6d137022",
   "metadata": {},
   "outputs": [],
   "source": [
    "df = pd.read_csv(\"scrapped_teams_info/ipl_teams_data.csv\")\n"
   ]
  },
  {
   "cell_type": "code",
   "execution_count": null,
   "id": "60f29d3a",
   "metadata": {},
   "outputs": [],
   "source": [
    "df"
   ]
  },
  {
   "cell_type": "code",
   "execution_count": null,
   "id": "39cf36cb",
   "metadata": {},
   "outputs": [],
   "source": [
    "resp = requests.get(\"https://www.iplt20.com/match/2025/1839\")"
   ]
  },
  {
   "cell_type": "code",
   "execution_count": null,
   "id": "4ad09afc",
   "metadata": {},
   "outputs": [],
   "source": [
    "soup = BeautifulSoup(resp.text)"
   ]
  },
  {
   "cell_type": "code",
   "execution_count": null,
   "id": "8d818261",
   "metadata": {},
   "outputs": [],
   "source": [
    "from selenium import webdriver\n",
    "from selenium.webdriver.common.keys import Keys\n",
    "from selenium.webdriver.common.by import By\n",
    "import time\n",
    "\n",
    "driver = webdriver.Chrome()\n",
    "\n",
    "driver.get(\"https://www.iplt20.com/match/2025/1839\")\n",
    "driver.find_elements(By.CLASS_NAME, \"cmdEvent fourCmd mcBall mcBall mcBall mcBall mcBall mcBall\")\n",
    "time.sleep(10)\n",
    "driver.close()"
   ]
  },
  {
   "cell_type": "code",
   "execution_count": null,
   "id": "af069697",
   "metadata": {},
   "outputs": [],
   "source": [
    "from selenium import webdriver\n",
    "from selenium.webdriver.common.keys import Keys\n",
    "from selenium.webdriver.common.by import By\n",
    "\n",
    "driver = webdriver.Chrome()\n",
    "driver.get(\"http://www.python.org\")\n",
    "assert \"Python\" in driver.title\n",
    "elem = driver.find_element(By.NAME, \"q\")\n",
    "elem.clear()\n",
    "elem.send_keys(\"pycon\")\n",
    "elem.send_keys(Keys.RETURN)\n",
    "assert \"No results found.\" not in driver.page_source\n",
    "driver.close()"
   ]
  },
  {
   "cell_type": "code",
   "execution_count": null,
   "id": "3cb647e5",
   "metadata": {},
   "outputs": [],
   "source": [
    "\n"
   ]
  },
  {
   "cell_type": "code",
   "execution_count": null,
   "id": "0bd3c0b0",
   "metadata": {},
   "outputs": [],
   "source": [
    "from bs4 import BeautifulSoup"
   ]
  },
  {
   "cell_type": "code",
   "execution_count": null,
   "id": "643ce48d",
   "metadata": {},
   "outputs": [],
   "source": [
    "kkr = driver.page_source"
   ]
  },
  {
   "cell_type": "code",
   "execution_count": null,
   "id": "fee95a86",
   "metadata": {},
   "outputs": [],
   "source": [
    "soup = BeautifulSoup(driver.page_source)"
   ]
  },
  {
   "cell_type": "code",
   "execution_count": null,
   "id": "be767d0f",
   "metadata": {},
   "outputs": [],
   "source": [
    "soup"
   ]
  },
  {
   "cell_type": "code",
   "execution_count": null,
   "id": "70fc31bf",
   "metadata": {},
   "outputs": [],
   "source": [
    "soup.find(class_=\"matchOrder mob-hide ng-binding ng-scope\").text"
   ]
  },
  {
   "cell_type": "code",
   "execution_count": null,
   "id": "0d1758c7",
   "metadata": {},
   "outputs": [],
   "source": [
    "soup.find(class_=\"ms-matchdate ng-binding\").text"
   ]
  },
  {
   "cell_type": "code",
   "execution_count": null,
   "id": "6324230a",
   "metadata": {},
   "outputs": [],
   "source": [
    "soup.find(class_=\"matGround ng-binding\").text"
   ]
  },
  {
   "cell_type": "code",
   "execution_count": null,
   "id": "15f2d351",
   "metadata": {},
   "outputs": [],
   "source": [
    "soup.find_all(class_=\"cmdOver mcBall bgFour mcBall mcBall mcBall mcBall mcBall\")[0].text"
   ]
  },
  {
   "cell_type": "code",
   "execution_count": null,
   "id": "f883e358",
   "metadata": {},
   "outputs": [],
   "source": []
  },
  {
   "cell_type": "code",
   "execution_count": null,
   "id": "268af3f4",
   "metadata": {},
   "outputs": [],
   "source": []
  },
  {
   "cell_type": "code",
   "execution_count": null,
   "id": "29c148fe",
   "metadata": {},
   "outputs": [],
   "source": []
  },
  {
   "cell_type": "code",
   "execution_count": null,
   "id": "745af685",
   "metadata": {},
   "outputs": [],
   "source": [
    "print(ball_wrapper[1].find(class_ = \"commentaryText ng-binding\").text)"
   ]
  },
  {
   "cell_type": "code",
   "execution_count": null,
   "id": "f4afc411",
   "metadata": {},
   "outputs": [],
   "source": [
    "# commentary\n",
    "ball_wrapper[0].find(class_ = \"commentaryText ng-binding\").text"
   ]
  },
  {
   "cell_type": "code",
   "execution_count": null,
   "id": "c5d4f779",
   "metadata": {},
   "outputs": [],
   "source": [
    "ball_wrapper[0]"
   ]
  },
  {
   "cell_type": "code",
   "execution_count": null,
   "id": "a512ed86",
   "metadata": {},
   "outputs": [],
   "source": [
    "ball_wrapper = soup.find_all(class_ = \"ballWrapper ng-scope\")[1:]\n",
    "l = []\n",
    "for i in ball_wrapper:\n",
    "    commentary_tag = i.find(class_=\"commentaryText ng-binding\")\n",
    "    commentry = commentary_tag.text if commentary_tag else None\n",
    "\n",
    "    over_tag = i.find(\"p\", class_=\"cmdOver\")\n",
    "    over_and_runs = over_tag.text.strip() if over_tag else None\n",
    "\n",
    "    l.append([commentry,over_and_runs])\n",
    "\n",
    "    import pandas as pd\n",
    "\n",
    "# Sample DataFrame\n",
    "df = pd.DataFrame(l, columns=['commentary', 'over_and_run'])\n",
    "\n",
    "# Drop rows where 'over_and_run' is NaN\n",
    "df = df[df['over_and_run'].notna()]\n",
    "\n",
    "# Split the string and ensure it's a list\n",
    "df['over_and_run'] = df['over_and_run'].apply(lambda x: x.split() if isinstance(x, str) else [])\n",
    "\n",
    "# Now extract elements safely\n",
    "df['over'] = df['over_and_run'].apply(lambda x: x[0] if len(x) > 0 else None)\n",
    "df['run'] = df['over_and_run'].apply(lambda x: x[1] if len(x) > 1 else None)\n",
    "df['extras'] = df['over_and_run'].apply(lambda x: x[2] if len(x) > 2 else None)\n",
    "\n"
   ]
  },
  {
   "cell_type": "code",
   "execution_count": null,
   "id": "7ede63e1",
   "metadata": {},
   "outputs": [],
   "source": [
    "import pandas as pd\n",
    "df = pd.DataFrame(l, columns = ['commentary','over_and_run'])\n",
    "\n",
    "# Seperate out the over, runs and wickets\n",
    "df = df[df['over_and_run'].notna()]\n",
    "df[\"over_and_run\"] = df['over_and_run'].apply(lambda x : x.split(' '))"
   ]
  },
  {
   "cell_type": "code",
   "execution_count": null,
   "id": "df844d6f",
   "metadata": {},
   "outputs": [],
   "source": [
    "df"
   ]
  },
  {
   "cell_type": "code",
   "execution_count": null,
   "id": "02a93973",
   "metadata": {},
   "outputs": [],
   "source": [
    "df['run'] = df['over_and_run'].apply(lambda x : x[1])"
   ]
  },
  {
   "cell_type": "code",
   "execution_count": null,
   "id": "ad5626fc",
   "metadata": {},
   "outputs": [],
   "source": []
  },
  {
   "cell_type": "code",
   "execution_count": null,
   "id": "9f119def",
   "metadata": {},
   "outputs": [],
   "source": [
    "df[df['run'] != 'W']['run'].astype(\"int\").sum()"
   ]
  },
  {
   "cell_type": "code",
   "execution_count": null,
   "id": "930d0172",
   "metadata": {},
   "outputs": [],
   "source": [
    "df[df['run'] == 'W'].shape[0]"
   ]
  },
  {
   "cell_type": "code",
   "execution_count": null,
   "id": "b3a36c64",
   "metadata": {},
   "outputs": [],
   "source": [
    "df['extras'].unique()"
   ]
  },
  {
   "cell_type": "code",
   "execution_count": null,
   "id": "1d70293c",
   "metadata": {},
   "outputs": [],
   "source": [
    "df.info()"
   ]
  },
  {
   "cell_type": "code",
   "execution_count": null,
   "id": "a8dfda42",
   "metadata": {},
   "outputs": [],
   "source": [
    "ball_wrapper[0].find(\"p\", class_=\"cmdOver mcBall bgFour mcBall mcBall mcBall mcBall mcBall\").text"
   ]
  },
  {
   "cell_type": "code",
   "execution_count": null,
   "id": "2582a63a",
   "metadata": {},
   "outputs": [],
   "source": [
    "tabs = driver.find_elements(By.XPATH, '//a[@href=\"javascript:void(0);\"]')"
   ]
  },
  {
   "cell_type": "code",
   "execution_count": null,
   "id": "4148f1f1",
   "metadata": {},
   "outputs": [],
   "source": [
    "tabs"
   ]
  },
  {
   "cell_type": "code",
   "execution_count": null,
   "id": "7ce95a4d",
   "metadata": {},
   "outputs": [],
   "source": [
    "for tab in tabs:\n",
    "    print(tab.text)"
   ]
  },
  {
   "cell_type": "code",
   "execution_count": null,
   "id": "e4dc107f",
   "metadata": {},
   "outputs": [],
   "source": [
    "for tab in tabs:\n",
    "    if \"KKR\" in tab.text:\n",
    "        tab.click()\n",
    "        time.sleep(5)\n",
    "        \n"
   ]
  },
  {
   "cell_type": "code",
   "execution_count": null,
   "id": "8e2ed299",
   "metadata": {},
   "outputs": [],
   "source": [
    "kkr_innings = driver.page_source\n",
    "kkr_soup = BeautifulSoup(kkr_innings)"
   ]
  },
  {
   "cell_type": "code",
   "execution_count": null,
   "id": "53b8657e",
   "metadata": {},
   "outputs": [],
   "source": [
    "ball_wrapper = kkr_soup.find_all(class_ = \"ballWrapper ng-scope\")[1:]\n",
    "l = []\n",
    "for i in ball_wrapper:\n",
    "    commentary_tag = i.find(class_=\"commentaryText ng-binding\")\n",
    "    commentry = commentary_tag.text if commentary_tag else None\n",
    "\n",
    "    over_tag = i.find(\"p\", class_=\"cmdOver\")\n",
    "    over_and_runs = over_tag.text.strip() if over_tag else None\n",
    "\n",
    "    l.append([commentry,over_and_runs])\n",
    "\n",
    "    import pandas as pd\n",
    "\n",
    "# Sample DataFrame\n",
    "df = pd.DataFrame(l, columns=['commentary', 'over_and_run'])\n",
    "\n",
    "# Drop rows where 'over_and_run' is NaN\n",
    "df = df[df['over_and_run'].notna()]\n",
    "\n",
    "# Split the string and ensure it's a list\n",
    "df['over_and_run'] = df['over_and_run'].apply(lambda x: x.split() if isinstance(x, str) else [])\n",
    "\n",
    "# Now extract elements safely\n",
    "df['over'] = df['over_and_run'].apply(lambda x: x[0] if len(x) > 0 else None)\n",
    "df['run'] = df['over_and_run'].apply(lambda x: x[1] if len(x) > 1 else None)\n",
    "df['extras'] = df['over_and_run'].apply(lambda x: x[2] if len(x) > 2 else None)\n",
    "\n"
   ]
  },
  {
   "cell_type": "code",
   "execution_count": null,
   "id": "e43c74be",
   "metadata": {},
   "outputs": [],
   "source": [
    "df"
   ]
  },
  {
   "cell_type": "code",
   "execution_count": null,
   "id": "7b0e354a",
   "metadata": {},
   "outputs": [],
   "source": [
    "df['extras'].value_counts()"
   ]
  },
  {
   "cell_type": "code",
   "execution_count": null,
   "id": "d301339d",
   "metadata": {},
   "outputs": [],
   "source": [
    "str(df[df['run'] != 'W']['run'].astype(\"int\").sum()) + '/' +str( df[df['run'] == 'W']['run'].shape[0])"
   ]
  },
  {
   "cell_type": "code",
   "execution_count": null,
   "id": "000facac",
   "metadata": {},
   "outputs": [],
   "source": [
    "from selenium import webdriver\n",
    "from selenium.webdriver.chrome.service import Service\n",
    "from webdriver_manager.chrome import ChromeDriverManager\n",
    "from selenium.webdriver.common.by import By\n",
    "import time\n",
    "driver = webdriver.Chrome()\n",
    "\n",
    "\n",
    "url = \"https://www.iplt20.com/match/2025/1799\"\n",
    "driver.get(url)"
   ]
  },
  {
   "cell_type": "code",
   "execution_count": null,
   "id": "afe3d07f",
   "metadata": {},
   "outputs": [],
   "source": [
    "driver.find_elements(By.XPATH, '//a[@href=\"javascript:void(0);\"]')\n"
   ]
  },
  {
   "cell_type": "code",
   "execution_count": null,
   "id": "b36add55",
   "metadata": {},
   "outputs": [],
   "source": [
    "for i in driver.find_elements(By.XPATH, '//a[@href=\"javascript:void(0);\"]'):\n",
    "    print(i.text)"
   ]
  },
  {
   "cell_type": "code",
   "execution_count": null,
   "id": "2084492c",
   "metadata": {},
   "outputs": [],
   "source": [
    "driver.find_elements(By.XPATH, '//a[@href=\"javascript:void(0);\"]')[11].text"
   ]
  },
  {
   "cell_type": "code",
   "execution_count": null,
   "id": "183ca8b6",
   "metadata": {},
   "outputs": [],
   "source": [
    "driver.find_elements(By.XPATH, '//a[@href=\"javascript:void(0);\"]')[11].click()"
   ]
  },
  {
   "cell_type": "code",
   "execution_count": null,
   "id": "49925e9b",
   "metadata": {},
   "outputs": [],
   "source": [
    "driver.find_elements(By.XPATH, '//a[@href=\"javascript:void(0);\"]')[11]\n",
    "first_inning_soup = driver.page_source\n"
   ]
  },
  {
   "cell_type": "code",
   "execution_count": null,
   "id": "ee2df21a",
   "metadata": {},
   "outputs": [],
   "source": [
    "from bs4 import BeautifulSoup"
   ]
  },
  {
   "cell_type": "code",
   "execution_count": null,
   "id": "0ec37e1e",
   "metadata": {},
   "outputs": [],
   "source": [
    "first_innging = BeautifulSoup(first_inning_soup)"
   ]
  },
  {
   "cell_type": "code",
   "execution_count": null,
   "id": "8afb59c0",
   "metadata": {},
   "outputs": [],
   "source": [
    "driver.find_elements(By.XPATH, '//a[@href=\"javascript:void(0);\"]')[12].click()"
   ]
  },
  {
   "cell_type": "code",
   "execution_count": null,
   "id": "3cd6d004",
   "metadata": {},
   "outputs": [],
   "source": [
    "first_innging.find_all(class_ = 'ap-inner-tb-click ng-binding ng-scope')[0].text"
   ]
  },
  {
   "cell_type": "code",
   "execution_count": null,
   "id": "e2096174",
   "metadata": {},
   "outputs": [],
   "source": [
    "driver.quit()"
   ]
  },
  {
   "cell_type": "code",
   "execution_count": null,
   "id": "73af2b1a",
   "metadata": {},
   "outputs": [],
   "source": []
  },
  {
   "cell_type": "code",
   "execution_count": null,
   "id": "79e8bba4",
   "metadata": {},
   "outputs": [],
   "source": [
    "for i in first_soup.find_all(class_ = 'ap-inner-tb-click ng-binding ng-scope'):\n",
    "    print(i.text)\n"
   ]
  },
  {
   "cell_type": "code",
   "execution_count": null,
   "id": "f74375e5",
   "metadata": {},
   "outputs": [],
   "source": [
    "for i in second_soup.find_all(class_ = 'ap-inner-tb-click ng-binding ng-scope'):\n",
    "    print(i.text)\n"
   ]
  },
  {
   "cell_type": "code",
   "execution_count": null,
   "id": "d5e36c1f",
   "metadata": {},
   "outputs": [],
   "source": [
    "driver = webdriver.Chrome()\n",
    "driver.get(url)\n",
    "tag_to_switch_innings = driver.find_elements(By.XPATH, '//a[@href=\"javascript:void(0);\"]')\n",
    "first_inning = tag_to_switch_innings[11]"
   ]
  },
  {
   "cell_type": "code",
   "execution_count": null,
   "id": "8886ffaa",
   "metadata": {},
   "outputs": [],
   "source": [
    "tag_to_switch_innings[11].text"
   ]
  },
  {
   "cell_type": "code",
   "execution_count": null,
   "id": "b1a52f9f",
   "metadata": {},
   "outputs": [],
   "source": [
    "ball_wrapper = first_soup.find_all(class_ = \"ballWrapper ng-scope\")[1:]\n",
    "l = []\n",
    "for i in ball_wrapper:\n",
    "    commentary_tag = i.find(class_=\"commentaryText ng-binding\")\n",
    "    commentry = commentary_tag.text if commentary_tag else None\n",
    "\n",
    "    over_tag = i.find(\"p\", class_=\"cmdOver\")\n",
    "    over_and_runs = over_tag.text.strip() if over_tag else None\n",
    "\n",
    "    l.append([commentry,over_and_runs])\n",
    "\n",
    "    import pandas as pd\n",
    "\n",
    "# Sample DataFrame\n",
    "df = pd.DataFrame(l, columns=['commentary', 'over_and_run'])\n",
    "\n",
    "# Drop rows where 'over_and_run' is NaN\n",
    "df = df[df['over_and_run'].notna()]\n",
    "\n",
    "# Split the string and ensure it's a list\n",
    "df['over_and_run'] = df['over_and_run'].apply(lambda x: x.split() if isinstance(x, str) else [])\n",
    "\n",
    "# Now extract elements safely\n",
    "df['over'] = df['over_and_run'].apply(lambda x: x[0] if len(x) > 0 else None)\n",
    "df['run'] = df['over_and_run'].apply(lambda x: x[1] if len(x) > 1 else None)\n",
    "df['extras'] = df['over_and_run'].apply(lambda x: x[2] if len(x) > 2 else None)\n",
    "\n"
   ]
  },
  {
   "cell_type": "code",
   "execution_count": null,
   "id": "c08e4b31",
   "metadata": {},
   "outputs": [],
   "source": [
    "driver.quit()"
   ]
  },
  {
   "cell_type": "code",
   "execution_count": null,
   "id": "3161499b",
   "metadata": {},
   "outputs": [],
   "source": [
    "for i in kkr_soup.find_all(class_ = 'ap-inner-tb-click ng-binding ng-scope'):\n",
    "    print(i.text)"
   ]
  },
  {
   "cell_type": "code",
   "execution_count": null,
   "id": "296de683",
   "metadata": {},
   "outputs": [],
   "source": [
    "kkr_soup.find_all(class_ = 'ap-inner-tb-click ng-binding ng-scope')"
   ]
  },
  {
   "cell_type": "code",
   "execution_count": null,
   "id": "a9705a49",
   "metadata": {},
   "outputs": [],
   "source": [
    "from bs4 import BeautifulSoup\n",
    "import requests\n",
    "from selenium import webdriver\n",
    "from selenium.webdriver.common.keys import Keys\n",
    "from selenium.webdriver.common.by import By\n",
    "import time\n",
    "\n",
    "import pandas as pd"
   ]
  },
  {
   "cell_type": "code",
   "execution_count": null,
   "id": "42c6f19e",
   "metadata": {},
   "outputs": [],
   "source": [
    "def get_match_soups(url):\n",
    "    \n",
    "    driver = webdriver.Chrome()\n",
    "    driver.get(url)\n",
    "    tag_to_switch_innings = driver.find_elements(By.XPATH, '//a[@href=\"javascript:void(0);\"]')\n",
    "    first_inning = tag_to_switch_innings[11]\n",
    "    whos_first_inning = first_inning.text\n",
    "    first_inning.click()\n",
    "    time.sleep(3)\n",
    "    first_inning_soup = BeautifulSoup(driver.page_source, \"html.parser\")\n",
    "    second_inning = tag_to_switch_innings[12]\n",
    "    whos_second_inning = second_inning.text\n",
    "    second_inning.click()\n",
    "    time.sleep(3)\n",
    "    second_inning_soup = BeautifulSoup(driver.page_source, \"html.parser\")\n",
    "\n",
    "    driver.quit()\n",
    "\n",
    "    return first_inning_soup,second_inning_soup, whos_first_inning, whos_second_inning"
   ]
  },
  {
   "cell_type": "code",
   "execution_count": null,
   "id": "5bb80e94",
   "metadata": {},
   "outputs": [],
   "source": [
    "first_inning_soup,second_inning_soup, whos_first_inning, whos_second_inning = get_match_soups(\"https://www.iplt20.com/match/2025/1799\")"
   ]
  },
  {
   "cell_type": "code",
   "execution_count": null,
   "id": "17826b8f",
   "metadata": {},
   "outputs": [],
   "source": [
    "def get_match_metadata(soup):\n",
    "    \"\"\"\n",
    "    The function provides metadata of the match up between two teams.\n",
    "    Input : Provide the soup of the innings data\n",
    "    Ouput : Gives out a array of [Match Number, Venue, Date, Time]\n",
    "    \"\"\"\n",
    "    l = []\n",
    "    match_number = soup.find(class_ = \"matchOrder mob-hide ng-binding ng-scope\").text \n",
    "    l.append(match_number)\n",
    "    \n",
    "    for i in soup.find(class_ = \"ap-match-place col-100 floatLft textCenter re ng-scope\").find_all('span'):\n",
    "        l.append(i.text)\n",
    "\n",
    "    return l"
   ]
  },
  {
   "cell_type": "code",
   "execution_count": null,
   "id": "e300fd39",
   "metadata": {},
   "outputs": [],
   "source": [
    "get_match_metadata(first_inning_soup)"
   ]
  },
  {
   "cell_type": "code",
   "execution_count": null,
   "id": "90b6d315",
   "metadata": {},
   "outputs": [],
   "source": []
  },
  {
   "cell_type": "code",
   "execution_count": null,
   "id": "d85ed1b7",
   "metadata": {},
   "outputs": [],
   "source": [
    "def get_ball_by_ball_commentary(soup):\n",
    "    # ball_wrapper = soup.find_all('div', class_ = ['ballWrapper ng-scope','cmdOver mcBall mcBall mcBall mcBall mcBall mcBall'])\n",
    "    ball_wrapper = soup.select('div.ballWrapper.ng-scope')\n",
    "    ball_wrapper = ball_wrapper[1:]\n",
    "    \n",
    "    # To Store the scrapped data\n",
    "    l = []\n",
    "\n",
    "    for i in ball_wrapper:\n",
    "        if i.p.contents[0].strip() != '':\n",
    "            ball_number = i.p.contents[0].strip()\n",
    "            event_on_that_ball = i.find('i').text.strip()\n",
    "\n",
    "            # Extract bowler vs batter info\n",
    "            bowling_info_tag = i.find('div', class_='commentaryStartText')\n",
    "            bowling_info = bowling_info_tag.get_text(strip=True) if bowling_info_tag else None\n",
    "\n",
    "            # Extract detailed commentary\n",
    "            commentary_tag = i.find('div', class_='commentaryText')\n",
    "            commentary = commentary_tag.get_text(strip=True) if commentary_tag else None\n",
    "\n",
    "            l.append({\n",
    "                'ball': ball_number,\n",
    "                'event': event_on_that_ball,\n",
    "                'bowling_info': bowling_info,\n",
    "                'commentary': commentary,\n",
    "            })\n",
    "\n",
    "    df = pd.DataFrame(l)\n",
    "    return df\n",
    "    \n",
    "\n",
    "    "
   ]
  },
  {
   "cell_type": "code",
   "execution_count": null,
   "id": "9ff9b831",
   "metadata": {},
   "outputs": [],
   "source": [
    "get_ball_by_ball_commentary(second_inning_soup)"
   ]
  },
  {
   "cell_type": "code",
   "execution_count": null,
   "id": "8bac21bf",
   "metadata": {},
   "outputs": [],
   "source": [
    "l = []\n",
    "for i in get_ball_by_ball_commentary(second_inning_soup):\n",
    "    if i.p.contents[0].strip() != '':\n",
    "        ball_number = i.p.contents[0]\n",
    "        event_on_that_ball = i.find('i').text\n",
    "        "
   ]
  },
  {
   "cell_type": "code",
   "execution_count": null,
   "id": "2e63d66c",
   "metadata": {},
   "outputs": [],
   "source": [
    "l = []\n",
    "\n",
    "for i in get_ball_by_ball_commentary(second_inning_soup):\n",
    "    if i.p.contents[0].strip() != '':\n",
    "        ball_number = i.p.contents[0].strip()\n",
    "        event_on_that_ball = i.find('i').text.strip()\n",
    "\n",
    "        # Extract bowler vs batter info\n",
    "        bowling_info_tag = i.find('div', class_='commentaryStartText')\n",
    "        bowling_info = bowling_info_tag.get_text(strip=True) if bowling_info_tag else None\n",
    "\n",
    "        # Extract detailed commentary\n",
    "        commentary_tag = i.find('div', class_='commentaryText')\n",
    "        commentary = commentary_tag.get_text(strip=True) if commentary_tag else None\n",
    "\n",
    "        l.append({\n",
    "            'ball': ball_number,\n",
    "            'event': event_on_that_ball,\n",
    "            'bowling_info': bowling_info,\n",
    "            'commentary': commentary\n",
    "            'Innings' : \n",
    "        })\n"
   ]
  },
  {
   "cell_type": "code",
   "execution_count": null,
   "id": "a5fad6b4",
   "metadata": {},
   "outputs": [],
   "source": [
    "df = pd.DataFrame(l)"
   ]
  },
  {
   "cell_type": "code",
   "execution_count": null,
   "id": "c80892c0",
   "metadata": {},
   "outputs": [],
   "source": [
    "df"
   ]
  },
  {
   "cell_type": "code",
   "execution_count": null,
   "id": "edddd92e",
   "metadata": {},
   "outputs": [],
   "source": [
    "df['event'].value_counts()"
   ]
  },
  {
   "cell_type": "code",
   "execution_count": null,
   "id": "5cfb9677",
   "metadata": {},
   "outputs": [],
   "source": [
    "df[df['ball'] == '15.3']"
   ]
  },
  {
   "cell_type": "code",
   "execution_count": null,
   "id": "93e83612",
   "metadata": {},
   "outputs": [],
   "source": [
    "print(df[df['ball'] == '15.3']['commentary'].iloc[0])"
   ]
  },
  {
   "cell_type": "code",
   "execution_count": null,
   "id": "bdb467d7",
   "metadata": {},
   "outputs": [],
   "source": [
    "print(df[df['ball'] == '11.4']['commentary'].iloc[0])\n"
   ]
  },
  {
   "cell_type": "code",
   "execution_count": null,
   "id": "fe6049c3",
   "metadata": {},
   "outputs": [],
   "source": [
    "get_ball_by_ball_commentary(first_inning_soup)[0].select_one(\"div.cmdText\").get_text(separator=\"\\n\", strip=True).split(\"\\n\")"
   ]
  },
  {
   "cell_type": "code",
   "execution_count": null,
   "id": "de9e2c27",
   "metadata": {},
   "outputs": [],
   "source": [
    "len(get_ball_by_ball_commentary(first_inning_soup)[0])"
   ]
  },
  {
   "cell_type": "code",
   "execution_count": null,
   "id": "9663b22b",
   "metadata": {},
   "outputs": [],
   "source": [
    "get_ball_by_ball_commentary(first_inning_soup)[10].text"
   ]
  },
  {
   "cell_type": "code",
   "execution_count": null,
   "id": "dd54b0bd",
   "metadata": {},
   "outputs": [],
   "source": [
    "len(get_ball_by_ball_commentary(second_inning_soup))"
   ]
  },
  {
   "cell_type": "code",
   "execution_count": null,
   "id": "20d299dc",
   "metadata": {},
   "outputs": [],
   "source": [
    "get_ball_by_ball_commentary(second_inning_soup)[1].text\n"
   ]
  },
  {
   "cell_type": "code",
   "execution_count": null,
   "id": "9a7a145f",
   "metadata": {},
   "outputs": [],
   "source": [
    "for i in get_ball_by_ball_commentary(second_inning_soup):\n",
    "    print(i.text)\n"
   ]
  },
  {
   "cell_type": "code",
   "execution_count": null,
   "id": "06853cbf",
   "metadata": {},
   "outputs": [],
   "source": []
  },
  {
   "cell_type": "code",
   "execution_count": null,
   "id": "4c955efb",
   "metadata": {},
   "outputs": [],
   "source": []
  },
  {
   "cell_type": "code",
   "execution_count": null,
   "id": "ee1484d4",
   "metadata": {},
   "outputs": [],
   "source": []
  },
  {
   "cell_type": "code",
   "execution_count": null,
   "id": "778b41b4",
   "metadata": {},
   "outputs": [],
   "source": []
  },
  {
   "cell_type": "code",
   "execution_count": null,
   "id": "f9c5a65b",
   "metadata": {},
   "outputs": [],
   "source": []
  },
  {
   "cell_type": "code",
   "execution_count": null,
   "id": "f445beed",
   "metadata": {},
   "outputs": [],
   "source": []
  },
  {
   "cell_type": "code",
   "execution_count": null,
   "id": "0d7bf6a8",
   "metadata": {},
   "outputs": [],
   "source": []
  },
  {
   "cell_type": "code",
   "execution_count": null,
   "id": "edebd716",
   "metadata": {},
   "outputs": [],
   "source": []
  },
  {
   "cell_type": "code",
   "execution_count": null,
   "id": "0e271201",
   "metadata": {},
   "outputs": [],
   "source": []
  },
  {
   "cell_type": "code",
   "execution_count": null,
   "id": "5ad6879c",
   "metadata": {},
   "outputs": [],
   "source": []
  },
  {
   "cell_type": "code",
   "execution_count": null,
   "id": "c8cd62f5",
   "metadata": {},
   "outputs": [],
   "source": [
    "for i in get_ball_by_ball_commentary(first_inning_soup):\n",
    "    i.select_one(\"div.cmdText\").get_text(separator=\"\\n\", strip=True).split(\"\\n\")\n"
   ]
  },
  {
   "cell_type": "code",
   "execution_count": null,
   "id": "c8c14a88",
   "metadata": {},
   "outputs": [],
   "source": [
    "get_ball_by_ball_commentary(first_inning_soup)[0].select_one(\"div.cmdText\").get_text(separator=\"\\n\", strip=True).split(\"\\n\")\n"
   ]
  },
  {
   "cell_type": "code",
   "execution_count": null,
   "id": "821c3061",
   "metadata": {},
   "outputs": [],
   "source": [
    "l = []\n",
    "for i in get_ball_by_ball_commentary(first_inning_soup):\n",
    "    l.append(i.select_one(\"div.cmdText\").get_text(separator=\"\\n\", strip=True).split(\"\\n\"))\n"
   ]
  },
  {
   "cell_type": "code",
   "execution_count": null,
   "id": "926fde53",
   "metadata": {},
   "outputs": [],
   "source": []
  },
  {
   "cell_type": "code",
   "execution_count": null,
   "id": "c44f3463",
   "metadata": {},
   "outputs": [],
   "source": [
    "get_ball_by_ball_commentary(first_inning_soup)[0].select_one(\"div.cmdText div.commentaryText\")"
   ]
  },
  {
   "cell_type": "code",
   "execution_count": null,
   "id": "efa3cda1",
   "metadata": {},
   "outputs": [],
   "source": [
    "commentary_div = get_ball_by_ball_commentary(first_inning_soup)[0].select_one(\"div.cmdText div.commentaryText\")\n",
    "commentary_text = commentary_div.get_text(strip=True)\n",
    "print(commentary_text)\n"
   ]
  },
  {
   "cell_type": "code",
   "execution_count": null,
   "id": "46416985",
   "metadata": {},
   "outputs": [],
   "source": [
    "get_ball_by_ball_commentary(first_inning_soup)[0].select_one(\"div.cmdText\").get_text(separator=\"\\n\", strip=True).split(\"\\n\")"
   ]
  },
  {
   "cell_type": "code",
   "execution_count": null,
   "id": "5d4d57da",
   "metadata": {},
   "outputs": [],
   "source": [
    "get_ball_by_ball_commentary(first_inning_soup)[1].select_one(\"div.cmdText\").get_text(separator=\"\\n\", strip=True).split(\"\\n\")\n"
   ]
  },
  {
   "cell_type": "code",
   "execution_count": null,
   "id": "ef6b2d07",
   "metadata": {},
   "outputs": [],
   "source": [
    "get_ball_by_ball_commentary(first_inning_soup)[2].select_one(\"div.cmdText\").get_text(separator=\"\\n\", strip=True).split(\"\\n\")\n"
   ]
  },
  {
   "cell_type": "code",
   "execution_count": null,
   "id": "ce02be88",
   "metadata": {},
   "outputs": [],
   "source": [
    "test = get_ball_by_ball_commentary(first_inning_soup)[-5].select_one(\"div.cmdText\").get_text(separator=\"\\n\", strip=True).split(\"\\n\")\n"
   ]
  },
  {
   "cell_type": "code",
   "execution_count": null,
   "id": "a3e28730",
   "metadata": {},
   "outputs": [],
   "source": [
    "for i in test:\n",
    "\n",
    "    print(i)"
   ]
  },
  {
   "cell_type": "code",
   "execution_count": null,
   "id": "7cb2bb7d",
   "metadata": {},
   "outputs": [],
   "source": []
  }
 ],
 "metadata": {
  "kernelspec": {
   "display_name": "ipl-scrapping",
   "language": "python",
   "name": "python3"
  },
  "language_info": {
   "codemirror_mode": {
    "name": "ipython",
    "version": 3
   },
   "file_extension": ".py",
   "mimetype": "text/x-python",
   "name": "python",
   "nbconvert_exporter": "python",
   "pygments_lexer": "ipython3",
   "version": "3.8.10"
  }
 },
 "nbformat": 4,
 "nbformat_minor": 5
}
